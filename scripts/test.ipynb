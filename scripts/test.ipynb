{
 "cells": [
  {
   "cell_type": "code",
   "execution_count": 2,
   "id": "0d1ae965",
   "metadata": {},
   "outputs": [],
   "source": [
    "import torch"
   ]
  },
  {
   "cell_type": "code",
   "execution_count": 24,
   "id": "3ff884a1",
   "metadata": {},
   "outputs": [
    {
     "data": {
      "text/plain": [
       "torch.Size([38])"
      ]
     },
     "execution_count": 24,
     "metadata": {},
     "output_type": "execute_result"
    }
   ],
   "source": [
    "tt = torch.ones((5, 19, 2))\n",
    "\n",
    "left_arm_dof_lower_limits = tt[0, :, 0]\n",
    "right_arm_dof_lower_limits = tt[0, :, 1]\n",
    "\n",
    "# left_arm_dof_lower_limits\n",
    "robot_dof_lower_limits = torch.cat((left_arm_dof_lower_limits, right_arm_dof_lower_limits)) * 2.5\n",
    "robot_dof_targets = torch.ones((5, 38))\n",
    "robot_dof_lower_limits.shape"
   ]
  },
  {
   "cell_type": "code",
   "execution_count": 25,
   "id": "b4775243",
   "metadata": {},
   "outputs": [
    {
     "data": {
      "text/plain": [
       "tensor([[3.0000, 3.0000, 3.0000, 3.0000, 3.0000, 3.0000, 3.0000, 3.0000, 3.0000,\n",
       "         3.0000, 2.5000, 2.5000, 2.5000, 2.5000, 2.5000, 2.5000, 2.5000, 2.5000,\n",
       "         2.5000, 2.5000, 2.5000, 2.5000, 2.5000, 2.5000, 2.5000, 2.5000, 2.5000,\n",
       "         2.5000, 2.5000, 2.5000, 2.5000, 2.5000, 2.5000, 2.5000, 2.5000, 2.5000,\n",
       "         2.5000, 2.5000],\n",
       "        [3.0000, 3.0000, 3.0000, 3.0000, 3.0000, 3.0000, 3.0000, 3.0000, 3.0000,\n",
       "         3.0000, 2.5000, 2.5000, 2.5000, 2.5000, 2.5000, 2.5000, 2.5000, 2.5000,\n",
       "         2.5000, 2.5000, 2.5000, 2.5000, 2.5000, 2.5000, 2.5000, 2.5000, 2.5000,\n",
       "         2.5000, 2.5000, 2.5000, 2.5000, 2.5000, 2.5000, 2.5000, 2.5000, 2.5000,\n",
       "         2.5000, 2.5000],\n",
       "        [3.0000, 3.0000, 3.0000, 3.0000, 3.0000, 3.0000, 3.0000, 3.0000, 3.0000,\n",
       "         3.0000, 2.5000, 2.5000, 2.5000, 2.5000, 2.5000, 2.5000, 2.5000, 2.5000,\n",
       "         2.5000, 2.5000, 2.5000, 2.5000, 2.5000, 2.5000, 2.5000, 2.5000, 2.5000,\n",
       "         2.5000, 2.5000, 2.5000, 2.5000, 2.5000, 2.5000, 2.5000, 2.5000, 2.5000,\n",
       "         2.5000, 2.5000],\n",
       "        [3.0000, 3.0000, 3.0000, 3.0000, 3.0000, 3.0000, 3.0000, 3.0000, 3.0000,\n",
       "         3.0000, 2.5000, 2.5000, 2.5000, 2.5000, 2.5000, 2.5000, 2.5000, 2.5000,\n",
       "         2.5000, 2.5000, 2.5000, 2.5000, 2.5000, 2.5000, 2.5000, 2.5000, 2.5000,\n",
       "         2.5000, 2.5000, 2.5000, 2.5000, 2.5000, 2.5000, 2.5000, 2.5000, 2.5000,\n",
       "         2.5000, 2.5000],\n",
       "        [3.0000, 3.0000, 3.0000, 3.0000, 3.0000, 3.0000, 3.0000, 3.0000, 3.0000,\n",
       "         3.0000, 2.5000, 2.5000, 2.5000, 2.5000, 2.5000, 2.5000, 2.5000, 2.5000,\n",
       "         2.5000, 2.5000, 2.5000, 2.5000, 2.5000, 2.5000, 2.5000, 2.5000, 2.5000,\n",
       "         2.5000, 2.5000, 2.5000, 2.5000, 2.5000, 2.5000, 2.5000, 2.5000, 2.5000,\n",
       "         2.5000, 2.5000]])"
      ]
     },
     "execution_count": 25,
     "metadata": {},
     "output_type": "execute_result"
    }
   ],
   "source": [
    "action = torch.ones((5, 38)) * 0.628\n",
    "robot_dof_speed_scales = torch.ones((38, ))\n",
    "robot_dof_speed_scales[10:] = 0.2\n",
    "action_scale = 7.5\n",
    "\n",
    "# robot_dof_speed_scales*action*action_scale\n",
    "targets = robot_dof_targets + robot_dof_speed_scales * action * action_scale\n",
    "\n",
    "torch.clamp(targets, robot_dof_lower_limits, robot_dof_lower_limits + 0.5)"
   ]
  },
  {
   "cell_type": "code",
   "execution_count": null,
   "id": "59c12996",
   "metadata": {},
   "outputs": [
    {
     "data": {
      "text/plain": [
       "tensor([1.2000, 1.2000, 1.2000, 1.2000, 1.2000, 1.2000, 1.2000, 1.2000, 1.2000,\n",
       "        1.2000, 1.2000, 1.2000, 1.2000, 1.2000, 1.2000, 1.2000, 1.2000, 1.2000,\n",
       "        1.2000])"
      ]
     },
     "execution_count": 3,
     "metadata": {},
     "output_type": "execute_result"
    }
   ],
   "source": [
    "left_joint_pos = torch.ones((5, 19))[0] * 1.2\n",
    "\n",
    "torch.cat((left_joint_pos, left_joint_pos))"
   ]
  }
 ],
 "metadata": {
  "kernelspec": {
   "display_name": "Python 3",
   "language": "python",
   "name": "python3"
  },
  "language_info": {
   "codemirror_mode": {
    "name": "ipython",
    "version": 3
   },
   "file_extension": ".py",
   "mimetype": "text/x-python",
   "name": "python",
   "nbconvert_exporter": "python",
   "pygments_lexer": "ipython3",
   "version": "3.10.15"
  }
 },
 "nbformat": 4,
 "nbformat_minor": 5
}
